{
 "cells": [
  {
   "cell_type": "code",
   "execution_count": 1,
   "id": "dbff6098",
   "metadata": {},
   "outputs": [],
   "source": [
    "import requests, os, bs4\n",
    "import re\n",
    "from bs4 import BeautifulSoup"
   ]
  },
  {
   "cell_type": "code",
   "execution_count": 2,
   "id": "01b8b466",
   "metadata": {},
   "outputs": [],
   "source": [
    "# Make a directory\n",
    "os.makedirs('Jaxa_Kaguya_Images', exist_ok = True)"
   ]
  },
  {
   "cell_type": "code",
   "execution_count": 3,
   "id": "4f179e1d",
   "metadata": {},
   "outputs": [],
   "source": [
    "url = 'http://jda.jaxa.jp/category_p.php?lang=e&page=&category1=352&category2=377&category3=378&page_pics=50'\n",
    "page1 = requests.get(url)\n",
    "#print(page1.text)"
   ]
  },
  {
   "cell_type": "code",
   "execution_count": 4,
   "id": "d4182191",
   "metadata": {},
   "outputs": [],
   "source": [
    "f = open(\"jaxa.txt\", \"w\")\n",
    "f.write(page1.text)\n",
    "f.close()"
   ]
  },
  {
   "cell_type": "code",
   "execution_count": 5,
   "id": "09cbc7cf",
   "metadata": {},
   "outputs": [],
   "source": [
    "file = open(\"jaxa.txt\", \"r\")\n",
    "text_read= file.read()\n",
    "file.close()\n",
    "hyper_list_images = re.findall('image\"><a href=\"/[^\">]+', text_read)  # hyperlinks\n",
    "#hyper_list_images"
   ]
  },
  {
   "cell_type": "code",
   "execution_count": 6,
   "id": "8a4568b6",
   "metadata": {},
   "outputs": [],
   "source": [
    "prefix='http://jda.jaxa.jp/'\n",
    "complete_url_list = [prefix + link.split('/')[1] for link in hyper_list_images]\n",
    "#complete_url_list"
   ]
  },
  {
   "cell_type": "code",
   "execution_count": 7,
   "id": "ae5c5edd",
   "metadata": {},
   "outputs": [],
   "source": [
    "posts=[]\n",
    "for i in range(len(complete_url_list)):\n",
    "    #print(complete_url_list[i])\n",
    "    link=complete_url_list[i]\n",
    "    image=requests.get(link)\n",
    "    #image.text\n",
    "    soup=bs4.BeautifulSoup(image.text, 'html.parser')\n",
    "    post=soup.select('img[src]')\n",
    "    posts.append(post)\n",
    "    #print(posts)\n",
    "\n",
    "       "
   ]
  },
  {
   "cell_type": "code",
   "execution_count": 8,
   "id": "30298e84",
   "metadata": {},
   "outputs": [
    {
     "name": "stdout",
     "output_type": "stream",
     "text": [
      "Done.\n"
     ]
    }
   ],
   "source": [
    "n=0\n",
    "for post in posts:\n",
    "    #print(post)\n",
    "    src = post[5].get('src')\n",
    "    #print(src)\n",
    "    if not src:\n",
    "        print('Could not find image.')\n",
    "    # Download the images.\n",
    "    if src!='img/icon_photo_e.jpg' and not src.startswith('img/'):\n",
    "        res = requests.get(src)\n",
    "        res.raise_for_status()\n",
    "        # Saves the images to the folder.\n",
    "        #print('Downloading %s to folder...' % 'moon'+str(n)+'.jpg')\n",
    "        imageFile = open(os.path.join('Jaxa_Kaguya_Images', 'moon'+str(n)+'.jpg'), 'wb')\n",
    "        for i in res.iter_content(100):\n",
    "            imageFile.write(i)\n",
    "        imageFile.close()\n",
    "        n+=1\n",
    "        \n",
    "print('Done.')"
   ]
  },
  {
   "cell_type": "code",
   "execution_count": null,
   "id": "492eeb62",
   "metadata": {},
   "outputs": [],
   "source": []
  }
 ],
 "metadata": {
  "kernelspec": {
   "display_name": "Python 3",
   "language": "python",
   "name": "python3"
  },
  "language_info": {
   "codemirror_mode": {
    "name": "ipython",
    "version": 3
   },
   "file_extension": ".py",
   "mimetype": "text/x-python",
   "name": "python",
   "nbconvert_exporter": "python",
   "pygments_lexer": "ipython3",
   "version": "3.8.8"
  },
  "toc": {
   "base_numbering": 1,
   "nav_menu": {},
   "number_sections": true,
   "sideBar": true,
   "skip_h1_title": false,
   "title_cell": "Table of Contents",
   "title_sidebar": "Contents",
   "toc_cell": false,
   "toc_position": {},
   "toc_section_display": true,
   "toc_window_display": false
  }
 },
 "nbformat": 4,
 "nbformat_minor": 5
}
